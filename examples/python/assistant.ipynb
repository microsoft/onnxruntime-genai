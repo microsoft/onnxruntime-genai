{
 "cells": [
  {
   "cell_type": "code",
   "execution_count": 1,
   "id": "569d2618-ff32-466a-8bec-eeb967ee364b",
   "metadata": {},
   "outputs": [],
   "source": [
    "import onnxruntime_genai as og\n",
    "import argparse\n",
    "import time"
   ]
  },
  {
   "cell_type": "code",
   "execution_count": 7,
   "id": "add45ace-14be-4ab3-a68c-303aebeea18c",
   "metadata": {},
   "outputs": [
    {
     "name": "stdout",
     "output_type": "stream",
     "text": [
      "Loading model...\n",
      "Model loaded in 41.10 seconds\n"
     ]
    }
   ],
   "source": [
    "print(\"Loading model...\")\n",
    "app_started_timestamp = time.time()\n",
    "\n",
    "model = og.Model(f'example-models\\phi2-int4-cpu')\n",
    "model_loaded_timestamp  = time.time()\n",
    "\n",
    "print(\"Model loaded in {:.2f} seconds\".format(model_loaded_timestamp - app_started_timestamp))\n",
    "\n"
   ]
  },
  {
   "cell_type": "code",
   "execution_count": 10,
   "id": "79513969-40bc-4588-a10c-8c482d224fdb",
   "metadata": {},
   "outputs": [
    {
     "name": "stdout",
     "output_type": "stream",
     "text": [
      "Loading tokenizer...\n",
      "Tokenizer created\n"
     ]
    }
   ],
   "source": [
    "print(\"Loading tokenizer...\")\n",
    "tokenizer = og.Tokenizer(model)\n",
    "tokenizer_stream = tokenizer.create_stream()\n",
    "\n",
    "print(\"Tokenizer created\")\n",
    "\n",
    "\n",
    "system_prompt = \"You are a helpful assistant. Answer in one sentence.\"\n",
    "text = \"What is Dilithium?\"\n",
    "\n",
    "input_tokens = tokenizer.encode(system_prompt + text)\n",
    "\n",
    "prompt_length = len(input_tokens)"
   ]
  },
  {
   "cell_type": "code",
   "execution_count": 19,
   "id": "9dcf8cc3-d5d2-42b1-8ad1-76d6629667b1",
   "metadata": {},
   "outputs": [
    {
     "name": "stdout",
     "output_type": "stream",
     "text": [
      "Creating generator ...\n",
      "Generator created\n",
      "\n",
      "A: Dilithium is a fictional substance in the Star Trek universe that is used as a propellant and a power source for spaceships.\n",
      "\n",
      "Prompt tokens: 17, New tokens: 32, Time to first: 1.32s, New tokens per second: 4.29 tps\n"
     ]
    }
   ],
   "source": [
    "started_timestamp = time.time()\n",
    "\n",
    "print(\"Creating generator ...\")\n",
    "params = og.GeneratorParams(model)\n",
    "params.set_search_options({\"do_sample\": False, \"max_length\": 2028, \"min_length\": 0, \"top_p\": 0.9, \"top_k\": 40, \"temperature\": 1.0, \"repetition_penalty\": 1.0})\n",
    "params.input_ids = input_tokens\n",
    "generator = og.Generator(model, params)\n",
    "print(\"Generator created\")\n",
    "\n",
    "first = True\n",
    "new_tokens = []\n",
    "\n",
    "while not generator.is_done():\n",
    "    generator.compute_logits()\n",
    "    generator.generate_next_token()\n",
    "    if first:\n",
    "        first_token_timestamp = time.time()\n",
    "        first = False\n",
    "\n",
    "    new_token = generator.get_next_tokens()[0]\n",
    "    print(tokenizer_stream.decode(new_token), end=\"\")\n",
    "    new_tokens.append(new_token)\n",
    "\n",
    "print()\n",
    "run_time = time.time() - started_timestamp\n",
    "print(f\"Prompt tokens: {len(input_tokens)}, New tokens: {len(new_tokens)}, Time to first: {(first_token_timestamp - started_timestamp):.2f}s, New tokens per second: {len(new_tokens)/run_time:.2f} tps\")\n"
   ]
  },
  {
   "cell_type": "code",
   "execution_count": null,
   "id": "dfd4e897-1316-4f80-8fe1-0088341be5b9",
   "metadata": {},
   "outputs": [],
   "source": [
    "# Compare with llama.cpp.\n"
   ]
  }
 ],
 "metadata": {
  "kernelspec": {
   "display_name": "Python 3 (ipykernel)",
   "language": "python",
   "name": "python3"
  },
  "language_info": {
   "codemirror_mode": {
    "name": "ipython",
    "version": 3
   },
   "file_extension": ".py",
   "mimetype": "text/x-python",
   "name": "python",
   "nbconvert_exporter": "python",
   "pygments_lexer": "ipython3",
   "version": "3.9.18"
  }
 },
 "nbformat": 4,
 "nbformat_minor": 5
}
